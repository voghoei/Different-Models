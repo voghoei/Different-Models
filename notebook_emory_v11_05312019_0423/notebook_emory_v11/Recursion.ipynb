{
 "cells": [
  {
   "cell_type": "markdown",
   "metadata": {
    "slideshow": {
     "slide_type": "slide"
    }
   },
   "source": [
    "<h1><center><big>Recursion in Java</big></center></h1>\n",
    "<br>\n",
    "<br>\n",
    "\n",
    "<h3 style=\"color:black;\"><center>Navid Hashemi Tonekaboni</center></h3>\n",
    "\n",
    "<h4><center>May 31, 2019</center></h5>\n",
    "<br> </br>\n",
    "<br> </br>\n",
    "\n",
    "<center><img src=\"img/emory_logo.jpg\" style=\"width:360px;height:180px;\" align=\"center\"/></center>"
   ]
  },
  {
   "cell_type": "markdown",
   "metadata": {
    "slideshow": {
     "slide_type": "slide"
    }
   },
   "source": [
    "<h1><center>What is Recursion?</center></h1>"
   ]
  },
  {
   "cell_type": "markdown",
   "metadata": {
    "slideshow": {
     "slide_type": "fragment"
    }
   },
   "source": [
    "<br>\n",
    "<center> <b>In order to understand recursion, you must first understand recursion.</b></center>\n",
    "<br>"
   ]
  },
  {
   "cell_type": "markdown",
   "metadata": {
    "slideshow": {
     "slide_type": "fragment"
    }
   },
   "source": [
    "<center><img src=\"img/111.png\" style=\"width:1228px;height:280px;\" align=\"center\"/></center>"
   ]
  },
  {
   "cell_type": "markdown",
   "metadata": {
    "slideshow": {
     "slide_type": "slide"
    }
   },
   "source": [
    "<h1><center>What is Recursion?</center></h1>\n",
    "<br>\n",
    "\n",
    "<center><img src=\"img/222.png\" style=\"width:1152px;height:550px;\" align=\"center\"/></center>"
   ]
  },
  {
   "cell_type": "markdown",
   "metadata": {
    "slideshow": {
     "slide_type": "slide"
    }
   },
   "source": [
    "<center><img src=\"img/33.png\" style=\"width:1180px;height:585px;\" align=\"center\"/></center>"
   ]
  },
  {
   "cell_type": "markdown",
   "metadata": {
    "slideshow": {
     "slide_type": "slide"
    }
   },
   "source": [
    "<h1><center>Defintion of Recursion</center></h1>\n",
    "<br>\n",
    "\n",
    "<center><img src=\"img/444.png\" style=\"width:1200px;height:550px;\" align=\"center\"/></center>"
   ]
  },
  {
   "cell_type": "markdown",
   "metadata": {
    "slideshow": {
     "slide_type": "slide"
    }
   },
   "source": [
    "<center><img src=\"img/watch.gif\" style=\"width:320px;height:320px;\" align=\"center\"/></center>"
   ]
  },
  {
   "cell_type": "markdown",
   "metadata": {
    "slideshow": {
     "slide_type": "fragment"
    }
   },
   "source": [
    "<center><u>To prevent an infinite loop from occurring, we have what is called a base case.</u></center>"
   ]
  },
  {
   "cell_type": "markdown",
   "metadata": {
    "slideshow": {
     "slide_type": "fragment"
    }
   },
   "source": [
    "<br> \n",
    "        <b>Base Case</b> is the most ‘basic’ form of the problem. The solution to the base case should be simple and easy to calculate (without any more recursion). "
   ]
  },
  {
   "cell_type": "markdown",
   "metadata": {
    "slideshow": {
     "slide_type": "slide"
    }
   },
   "source": [
    "<h1><center>Recursive Definition</center></h1>"
   ]
  },
  {
   "cell_type": "markdown",
   "metadata": {
    "slideshow": {
     "slide_type": "fragment"
    }
   },
   "source": [
    "To create a recursive definition of some concept, we need to establish two things:"
   ]
  },
  {
   "cell_type": "markdown",
   "metadata": {
    "slideshow": {
     "slide_type": "fragment"
    }
   },
   "source": [
    "- <b>Base Case:</b> create a non-recursive definition as a \"base\".\n",
    "- <b>Recursive Case:</b> create a definition in terms of itself, changing it somehow (usually towards the base case)."
   ]
  },
  {
   "cell_type": "markdown",
   "metadata": {
    "slideshow": {
     "slide_type": "slide"
    }
   },
   "source": [
    "<h1><center>Let's Solve a Problem</center></h1>\n",
    "\n",
    "- The CEO of a company asks top executives to collect feedback reports from everyone in the company."
   ]
  },
  {
   "cell_type": "markdown",
   "metadata": {
    "slideshow": {
     "slide_type": "fragment"
    }
   },
   "source": [
    "- <b><u>Iterative Solution:</u></b> The CEO asks each employees to provide him/her with their feedbacks"
   ]
  },
  {
   "cell_type": "markdown",
   "metadata": {
    "slideshow": {
     "slide_type": "fragment"
    }
   },
   "source": [
    "- <b><u>Recursive Solution:</u></b><br>\n",
    "    * <b>Base Case:</b> If you don't have anyone under your supervision, pass your feedback report on to your manager.\n",
    "    * <b>Recursive Case:</b> If you have someone under your supervision, collect the feedback reports from all your subordinates, add your own report, and pass them on to your manager."
   ]
  },
  {
   "cell_type": "markdown",
   "metadata": {
    "slideshow": {
     "slide_type": "slide"
    }
   },
   "source": [
    "<center><img src=\"img/66.png\" style=\"width:708px;height:750px;\" align=\"center\"/></center>"
   ]
  },
  {
   "cell_type": "markdown",
   "metadata": {
    "slideshow": {
     "slide_type": "slide"
    }
   },
   "source": [
    "<center><img src=\"img/77.png\" style=\"width:708px;height:750px;\" align=\"center\"/></center>"
   ]
  },
  {
   "cell_type": "markdown",
   "metadata": {
    "slideshow": {
     "slide_type": "slide"
    }
   },
   "source": [
    "<center><img src=\"img/88.png\" style=\"width:708px;height:750px;\" align=\"center\"/></center>"
   ]
  },
  {
   "cell_type": "markdown",
   "metadata": {
    "slideshow": {
     "slide_type": "slide"
    }
   },
   "source": [
    "<center><img src=\"img/99.png\" style=\"width:708px;height:750px;\" align=\"center\"/></center>"
   ]
  },
  {
   "cell_type": "markdown",
   "metadata": {
    "slideshow": {
     "slide_type": "slide"
    }
   },
   "source": [
    "<center><img src=\"img/1010.png\" style=\"width:708px;height:750px;\" align=\"center\"/></center>"
   ]
  },
  {
   "cell_type": "markdown",
   "metadata": {
    "slideshow": {
     "slide_type": "slide"
    }
   },
   "source": [
    "<h1><center>Another Recursive Function Example: <u>Factorial</u></center></h1>"
   ]
  },
  {
   "cell_type": "markdown",
   "metadata": {
    "slideshow": {
     "slide_type": "fragment"
    }
   },
   "source": [
    "A <b>Factorial</b> is the product of all <u>positive integers</u> less than or equal to <b>n</b>. The Factorial of <b>n</b> would be <b>n!</b> <br><br>\n",
    "Example: 7! = 7 X 6 X 5 X 4 X 3 X 2 X 1\n",
    "<br><br>"
   ]
  },
  {
   "cell_type": "markdown",
   "metadata": {
    "slideshow": {
     "slide_type": "fragment"
    }
   },
   "source": [
    "- <b>Base Case:</b> &nbsp; &nbsp; n==0  &nbsp; &nbsp;--->&nbsp; &nbsp;  result is 1\n",
    "- <b>Recursive Case:</b> &nbsp; &nbsp; n>0  &nbsp; &nbsp;--->&nbsp; &nbsp;  result is (n-1)! * n"
   ]
  },
  {
   "cell_type": "markdown",
   "metadata": {
    "slideshow": {
     "slide_type": "slide"
    }
   },
   "source": [
    "<h1><center><u>Factorial</u></center></h1>\n",
    "<br>\n",
    "\n",
    "<center><img src=\"img/12.png\" style=\"width:1335px;height:550px;\" align=\"center\"/></center>"
   ]
  },
  {
   "cell_type": "markdown",
   "metadata": {
    "slideshow": {
     "slide_type": "slide"
    }
   },
   "source": [
    "<h1><center><u>Factorial</u>: Recursive Approach</center></h1>"
   ]
  },
  {
   "cell_type": "code",
   "execution_count": null,
   "metadata": {
    "slideshow": {
     "slide_type": "fragment"
    }
   },
   "outputs": [],
   "source": [
    "int factorial(int n){   \n",
    "    if (n == 0)    \n",
    "        return 1;    \n",
    "    else    \n",
    "        return(n * factorial(n-1));    \n",
    "}    "
   ]
  },
  {
   "cell_type": "code",
   "execution_count": null,
   "metadata": {
    "slideshow": {
     "slide_type": "fragment"
    }
   },
   "outputs": [],
   "source": [
    "int n = 5;\n",
    "int fact = factorial(n);   \n",
    "System.out.println(\"Factorial of \"+ n +\" is: \"+ fact);  "
   ]
  },
  {
   "cell_type": "markdown",
   "metadata": {
    "slideshow": {
     "slide_type": "slide"
    }
   },
   "source": [
    "<h1><center>Factorial: Iterative Approach</center></h1>"
   ]
  },
  {
   "cell_type": "code",
   "execution_count": null,
   "metadata": {
    "slideshow": {
     "slide_type": "fragment"
    }
   },
   "outputs": [],
   "source": [
    "int fact = 1;  \n",
    "int n = 5;      \n",
    "for(int i=1; i <= n; i++)  \n",
    "    fact = fact*i;   \n",
    "System.out.println(\"Factorial of \"+ n +\" is: \"+fact); "
   ]
  },
  {
   "cell_type": "markdown",
   "metadata": {
    "slideshow": {
     "slide_type": "slide"
    }
   },
   "source": [
    "<h1><center>Another Recursive Function Example: <u>Fibonacci Numbers</u></center></h1>\n",
    "<br>\n",
    "\n",
    "<center><img src=\"img/13.png\" style=\"width:1385px;height:500px;\" align=\"center\"/></center>"
   ]
  },
  {
   "cell_type": "markdown",
   "metadata": {
    "slideshow": {
     "slide_type": "slide"
    }
   },
   "source": [
    "<h1><center>Fibonacci Numbers</center></h1>\n",
    "<br>\n",
    "\n",
    "<center><img src=\"img/14.png\" style=\"width:1014px;height:600px;\" align=\"center\"/></center>"
   ]
  },
  {
   "cell_type": "markdown",
   "metadata": {
    "slideshow": {
     "slide_type": "slide"
    }
   },
   "source": [
    "<h1><center>Fibonacci Numbers</center></h1>"
   ]
  },
  {
   "cell_type": "markdown",
   "metadata": {
    "slideshow": {
     "slide_type": "fragment"
    }
   },
   "source": [
    "<b>Base Cases:</b><br>\n",
    "* fibonacci (0) return 1\n",
    "<br>&nbsp; &nbsp; &\n",
    "* fibonacci (1) return 1\n",
    "<br>"
   ]
  },
  {
   "cell_type": "markdown",
   "metadata": {
    "slideshow": {
     "slide_type": "fragment"
    }
   },
   "source": [
    "<b>Recusrive Case:</b><br>\n",
    "* fibonacci(n) = fibonacci(n-1) + fibonacci(n-2)"
   ]
  },
  {
   "cell_type": "markdown",
   "metadata": {
    "slideshow": {
     "slide_type": "slide"
    }
   },
   "source": [
    "<h1><center>Fibonacci: Recursive Approach</center></h1>"
   ]
  },
  {
   "cell_type": "code",
   "execution_count": null,
   "metadata": {
    "slideshow": {
     "slide_type": "fragment"
    }
   },
   "outputs": [],
   "source": [
    "int fib(int n) {\n",
    "    System.out.print(n+\" \"); \n",
    "    if (n == 1) return 1;\n",
    "    if (n == 2) return 1;\n",
    "    return fib(n-2) + fib(n-1);} "
   ]
  },
  {
   "cell_type": "code",
   "execution_count": null,
   "metadata": {
    "slideshow": {
     "slide_type": "fragment"
    }
   },
   "outputs": [],
   "source": [
    "int number = 5;\n",
    "System.out.println(\"Steps are :\");\n",
    "System.out.println(\"\\nThe \"+ number +\" th value is: \" + fib(number));"
   ]
  },
  {
   "cell_type": "markdown",
   "metadata": {
    "slideshow": {
     "slide_type": "fragment"
    }
   },
   "source": [
    "<center><img src=\"img/25.png\" style=\"width:510px;height:360px;\" align=\"center\"/></center>"
   ]
  },
  {
   "cell_type": "markdown",
   "metadata": {
    "slideshow": {
     "slide_type": "slide"
    }
   },
   "source": [
    "<h1><center>Fibonacci: Recursive Approach</center></h1>"
   ]
  },
  {
   "cell_type": "code",
   "execution_count": null,
   "metadata": {
    "slideshow": {
     "slide_type": "fragment"
    }
   },
   "outputs": [],
   "source": [
    "int fib(int n) {\n",
    "    if (n == 1) return 1;\n",
    "    if (n == 2) return 1;\n",
    "    return fib(n-2) + fib(n-1);\n",
    "} // fib\n",
    "\n",
    "int number = 5;\n",
    "for (int i = 1; i <number +1 ; i++)\n",
    "    System.out.print(fib(i)+\" \");"
   ]
  },
  {
   "cell_type": "code",
   "execution_count": null,
   "metadata": {
    "slideshow": {
     "slide_type": "skip"
    }
   },
   "outputs": [],
   "source": [
    "//recursive Fibonacci numbers in order without the for loop\n",
    "void fib(int f,int s,int t,int limit) {\n",
    "    if(limit<=0) \n",
    "        return ;\n",
    "    t = f+s;\n",
    "    System.out.print(f+\" \");\n",
    "    f=s;\n",
    "    s=t;\n",
    "\n",
    "    fib(f, s, t, --limit);\n",
    "}"
   ]
  },
  {
   "cell_type": "code",
   "execution_count": null,
   "metadata": {
    "slideshow": {
     "slide_type": "skip"
    }
   },
   "outputs": [],
   "source": [
    "//recursive Fibonacci numbers in order without the for loop (continued)\n",
    "int number = 5;\n",
    "fib(1, 1, 0, number);"
   ]
  },
  {
   "cell_type": "markdown",
   "metadata": {
    "slideshow": {
     "slide_type": "slide"
    }
   },
   "source": [
    "<h1><center>Fibonacci: Iterative Approach</center></h1>"
   ]
  },
  {
   "cell_type": "code",
   "execution_count": null,
   "metadata": {
    "slideshow": {
     "slide_type": "fragment"
    }
   },
   "outputs": [],
   "source": [
    "int f=1,s=1,t = 0,count=5;    \n",
    "    \n",
    "for(int i=count;i>0;--i)\n",
    "{ \n",
    "    t = f+s;\n",
    "    System.out.print(f+\" \");\n",
    "    f=s;\n",
    "    s=t; \n",
    " }  "
   ]
  },
  {
   "cell_type": "markdown",
   "metadata": {
    "slideshow": {
     "slide_type": "slide"
    }
   },
   "source": [
    "<h1><center><u>Palindrome</u></center></h1>"
   ]
  },
  {
   "cell_type": "markdown",
   "metadata": {
    "slideshow": {
     "slide_type": "fragment"
    }
   },
   "source": [
    "<br>\n",
    "<center> A <b>palindrome</b> is a word that is spelled the same forward and backward.</center>\n",
    "<br>"
   ]
  },
  {
   "cell_type": "markdown",
   "metadata": {
    "slideshow": {
     "slide_type": "fragment"
    }
   },
   "source": [
    "<center>For example: <font color=\"color:#F0601E;\">kayak, Anna, level, racecar</font> are palindromes, but <u>pipe</u> is not.</center>"
   ]
  },
  {
   "cell_type": "markdown",
   "metadata": {
    "slideshow": {
     "slide_type": "slide"
    }
   },
   "source": [
    "<h1><center><u>Palindrome</u></center></h1>"
   ]
  },
  {
   "cell_type": "markdown",
   "metadata": {
    "slideshow": {
     "slide_type": "fragment"
    }
   },
   "source": [
    "<br>\n",
    "<center> <b>racecar</b></center>"
   ]
  },
  {
   "cell_type": "markdown",
   "metadata": {
    "slideshow": {
     "slide_type": "fragment"
    }
   },
   "source": [
    "<center> <b>aceca</b></center>"
   ]
  },
  {
   "cell_type": "markdown",
   "metadata": {
    "slideshow": {
     "slide_type": "fragment"
    }
   },
   "source": [
    "<center> <b>cec</b></center>"
   ]
  },
  {
   "cell_type": "markdown",
   "metadata": {
    "slideshow": {
     "slide_type": "fragment"
    }
   },
   "source": [
    "<center> <b>e</b></center>"
   ]
  },
  {
   "cell_type": "markdown",
   "metadata": {
    "slideshow": {
     "slide_type": "slide"
    }
   },
   "source": [
    "<h1><center>Palindrome</center></h1>\n",
    "<center><img src=\"img/199.png\" style=\"width:1513px;height:400px;\" align=\"center\"/></center>"
   ]
  },
  {
   "cell_type": "markdown",
   "metadata": {
    "slideshow": {
     "slide_type": "slide"
    }
   },
   "source": [
    "<h1><center>Find the longest <u>Palindrome</u> in a text</center></h1>\n"
   ]
  },
  {
   "cell_type": "code",
   "execution_count": null,
   "metadata": {
    "slideshow": {
     "slide_type": "fragment"
    }
   },
   "outputs": [],
   "source": [
    "boolean isPal(String s)\n",
    "    { \n",
    "        if(s.length() == 0 || s.length() == 1)\n",
    "            return true; \n",
    "        if(s.charAt(0) == s.charAt(s.length()-1))\n",
    "            return isPal(s.substring(1, s.length()-1));\n",
    "        return false;\n",
    "    }"
   ]
  },
  {
   "cell_type": "code",
   "execution_count": null,
   "metadata": {
    "slideshow": {
     "slide_type": "fragment"
    }
   },
   "outputs": [],
   "source": [
    "String text = \"Wow, Hannah has bought a racecar from Laval.\";\n",
    "        String[] arr = text.split(\"\\\\.| |,\");\n",
    "        String longest=\"\";\n",
    "        for (int i=0; i< arr.length; i++){\n",
    "            if(isPal(arr[i])){\n",
    "                if(arr[i].length()>longest.length())\n",
    "                    longest = arr[i];\n",
    "            }}\n",
    "        System.out.println(longest + \" is the longest palindrome in your text!\");"
   ]
  },
  {
   "cell_type": "markdown",
   "metadata": {
    "slideshow": {
     "slide_type": "slide"
    }
   },
   "source": [
    "<h1><center>Palindrome: Iterative Approach</center></h1>"
   ]
  },
  {
   "cell_type": "code",
   "execution_count": null,
   "metadata": {
    "slideshow": {
     "slide_type": "fragment"
    }
   },
   "outputs": [],
   "source": [
    "boolean checkPalindrome(String text){ \n",
    "        String reversed = \"\"; \n",
    "        char[] wordLetters = text.toCharArray();         \n",
    "        for(int i = text.length() -1; i>=0 ; i--) \n",
    "            reversed += wordLetters[i]; \n",
    "        return text.equals(reversed); }"
   ]
  },
  {
   "cell_type": "code",
   "execution_count": null,
   "metadata": {
    "slideshow": {
     "slide_type": "fragment"
    }
   },
   "outputs": [],
   "source": [
    "String text = \"Wow, Hannah has bought a racecar from Laval.\";\n",
    "        String[] arr = text.split(\"\\\\.| |,\");\n",
    "        String longest=\"\";\n",
    "        for (int i=0; i< arr.length; i++){\n",
    "            if(checkPalindrome(arr[i])){\n",
    "                if(arr[i].length()>longest.length())\n",
    "                    longest = arr[i]; }}\n",
    "        System.out.println(longest + \" is the longest palindrome in your text!\");"
   ]
  },
  {
   "cell_type": "markdown",
   "metadata": {
    "slideshow": {
     "slide_type": "slide"
    }
   },
   "source": [
    "<h1><center>Permutation of Letters in a Word</center></h1>"
   ]
  },
  {
   "cell_type": "markdown",
   "metadata": {
    "slideshow": {
     "slide_type": "fragment"
    }
   },
   "source": [
    "<br>\n",
    "\n",
    "- It is the number of ways we can change the order of the letters in a word.\n",
    "- Each different letter arrangement is called a permutation of the word."
   ]
  },
  {
   "cell_type": "markdown",
   "metadata": {
    "slideshow": {
     "slide_type": "fragment"
    }
   },
   "source": [
    "- <b> Sample Word: </b> STOP\n",
    "- <b> All Permutations: </b> {STOP, STPO, SOTP, SOPT, SPTO, SPOT, TSOP, TSPO, TOSP, TOPS, TPSO, TPOS, OSTP, OSPT, OTSP, OTPS, OPST, OPTS, PSTO, PSOT, PTSO, PTOS, POST, POTS}"
   ]
  },
  {
   "cell_type": "markdown",
   "metadata": {
    "slideshow": {
     "slide_type": "slide"
    }
   },
   "source": [
    "<h1><center>Password Checker</center></h1>"
   ]
  },
  {
   "cell_type": "markdown",
   "metadata": {
    "slideshow": {
     "slide_type": "fragment"
    }
   },
   "source": [
    "<center><img src=\"img/pass.jpg\" style=\"width:406px;height:354px;\" align=\"center\"/></center>"
   ]
  },
  {
   "cell_type": "markdown",
   "metadata": {
    "slideshow": {
     "slide_type": "fragment"
    }
   },
   "source": [
    "<center><h2> Let's Think-Pair-Share! </h2></center>"
   ]
  },
  {
   "cell_type": "code",
   "execution_count": null,
   "metadata": {
    "slideshow": {
     "slide_type": "slide"
    }
   },
   "outputs": [],
   "source": [
    "// Prints all the permutations of letters in a word\n",
    "void permutationPrint(String newWord, String word) {\n",
    "    if (word.isEmpty()) {\n",
    "        System.out.print(newWord+\" \");    \n",
    "    } \n",
    "    else {\n",
    "        for (int i = 0; i < word.length(); i++) {\n",
    "            permutationPrint(newWord + word.charAt(i), word.substring(0, i) + word.substring(i + 1));\n",
    "        }\n",
    "    }\n",
    "}"
   ]
  },
  {
   "cell_type": "code",
   "execution_count": null,
   "metadata": {
    "slideshow": {
     "slide_type": "fragment"
    }
   },
   "outputs": [],
   "source": [
    "permutationPrint(\"\", \"joe\");"
   ]
  },
  {
   "cell_type": "code",
   "execution_count": 1,
   "metadata": {
    "slideshow": {
     "slide_type": "slide"
    }
   },
   "outputs": [],
   "source": [
    "// Creates all the permutations of letters in a word and store them in a list.\n",
    "\n",
    "void permutationList(String newWord, String word, List words) {\n",
    "\n",
    "    if (word.isEmpty()) \n",
    "        words.add(newWord);     \n",
    "    else {\n",
    "        for (int i = 0; i < word.length(); i++) {\n",
    "            permutationList(newWord + word.charAt(i), word.substring(0, i) + word.substring(i + 1),words);}}}"
   ]
  },
  {
   "cell_type": "code",
   "execution_count": 2,
   "metadata": {
    "slideshow": {
     "slide_type": "fragment"
    }
   },
   "outputs": [
    {
     "name": "stdout",
     "output_type": "stream",
     "text": [
      "Please insert your new password:\n",
      "joei9\n",
      "\n",
      "You succesfully changed the password!\n"
     ]
    }
   ],
   "source": [
    "String oldPass=\"joe75\";\n",
    "String newPass=\"\";\n",
    "List list = new ArrayList<String>();\n",
    "Scanner scanner = new Scanner(System.in);\n",
    "System.out.println(\"Please insert your new password:\");\n",
    "do{\n",
    "    newPass = scanner.next(); \n",
    "    list.clear();\n",
    "    permutationList(\"\", newPass,list);\n",
    "    //System.out.println(list);\n",
    "    if(!list.contains(oldPass))\n",
    "        break;\n",
    "    else{\n",
    "        System.err.println(\"Your new password is a permutation of your current one!\");\n",
    "        System.out.println(\"Please insert your new password:\");\n",
    "        }       \n",
    "}while(true);\n",
    "System.out.println(\"\\nYou succesfully changed the password!\");"
   ]
  },
  {
   "cell_type": "markdown",
   "metadata": {
    "slideshow": {
     "slide_type": "slide"
    }
   },
   "source": [
    "<h1><center>Permutation of Letters in a Word: Iterative Approach</center></h1>"
   ]
  },
  {
   "cell_type": "code",
   "execution_count": 3,
   "metadata": {
    "slideshow": {
     "slide_type": "fragment"
    }
   },
   "outputs": [
    {
     "name": "stdout",
     "output_type": "stream",
     "text": [
      "[NSU, SNU, SUN, NUS, UNS, USN]\n"
     ]
    }
   ],
   "source": [
    "String word = \"SUN\";\n",
    "\n",
    "List<String> newWord = new ArrayList<>();\n",
    "newWord.add(String.valueOf(word.charAt(0)));\n",
    "\n",
    "for (int i = 1; i < word.length(); i++)\n",
    "{\n",
    "    for (int j = newWord.size() - 1; j >= 0 ; j--)\n",
    "    {\n",
    "        String str = newWord.remove(j);\n",
    "\n",
    "        for (int k = 0; k <= str.length(); k++)\n",
    "        {            \n",
    "            newWord.add(str.substring(0, k) + word.charAt(i) + str.substring(k));\n",
    "        }\n",
    "    }\n",
    "}\n",
    "System.out.println(newWord);"
   ]
  },
  {
   "cell_type": "markdown",
   "metadata": {
    "slideshow": {
     "slide_type": "slide"
    }
   },
   "source": [
    "<h1><center><u>File Systems</u></center></h1>"
   ]
  },
  {
   "cell_type": "markdown",
   "metadata": {
    "slideshow": {
     "slide_type": "fragment"
    }
   },
   "source": [
    "<center><img src=\"img/filesystem.png\" style=\"width:767px;height:550px;\" align=\"center\"/></center>"
   ]
  },
  {
   "cell_type": "markdown",
   "metadata": {
    "slideshow": {
     "slide_type": "slide"
    }
   },
   "source": [
    "<h1><center>List All the Files in a Folder Structure</center></h1>"
   ]
  },
  {
   "cell_type": "code",
   "execution_count": null,
   "metadata": {
    "slideshow": {
     "slide_type": "fragment"
    }
   },
   "outputs": [],
   "source": [
    "import java.io.File;\n",
    "void dirTree(File dir) {\n",
    "      File[] subdirs=dir.listFiles();\n",
    "      for(File subdir: subdirs) {\n",
    "         if (subdir.isDirectory()) \n",
    "            dirTree(subdir);\n",
    "         else \n",
    "            System.out.println(subdir.getAbsolutePath());\n",
    "        }\n",
    "   }"
   ]
  },
  {
   "cell_type": "code",
   "execution_count": null,
   "metadata": {
    "scrolled": true,
    "slideshow": {
     "slide_type": "fragment"
    }
   },
   "outputs": [],
   "source": [
    "dirTree(new File(\"/Users/navid/Desktop/Spring2019/SystemsReadingGroup\"));"
   ]
  },
  {
   "cell_type": "markdown",
   "metadata": {
    "slideshow": {
     "slide_type": "slide"
    }
   },
   "source": [
    "<h1><center>Review: <u>Recursion Steps</u></center></h1>"
   ]
  },
  {
   "cell_type": "markdown",
   "metadata": {
    "slideshow": {
     "slide_type": "fragment"
    }
   },
   "source": [
    "- <b>Step 1:</b> Determine what the function is.\n",
    "\n",
    "- <b>Step 2:</b> Determine the base case(s) and the solution.\n",
    "\n",
    "- <b>Step 3:</b> Determine what should be included in the Recursive Call.\n",
    "\n",
    "- <b>Step 4:</b> Trace and test for different inputs."
   ]
  },
  {
   "cell_type": "markdown",
   "metadata": {
    "slideshow": {
     "slide_type": "slide"
    }
   },
   "source": [
    "<center><img src=\"img/24.png\" style=\"width:1090px;height:600px;\" align=\"center\"/></center>"
   ]
  }
 ],
 "metadata": {
  "celltoolbar": "Slideshow",
  "kernelspec": {
   "display_name": "Java",
   "language": "java",
   "name": "java"
  },
  "language_info": {
   "codemirror_mode": "java",
   "file_extension": ".java",
   "mimetype": "text/x-java-source",
   "name": "Java",
   "pygments_lexer": "java",
   "version": "11.0.2+9-LTS"
  }
 },
 "nbformat": 4,
 "nbformat_minor": 2
}
